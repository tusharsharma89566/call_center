{
  "nbformat": 4,
  "nbformat_minor": 0,
  "metadata": {
    "colab": {
      "provenance": []
    },
    "kernelspec": {
      "name": "python3",
      "display_name": "Python 3"
    },
    "language_info": {
      "name": "python"
    }
  },
  "cells": [
    {
      "cell_type": "code",
      "execution_count": null,
      "metadata": {
        "id": "ZA3S73huOeOh"
      },
      "outputs": [],
      "source": [
        "import numpy as np\n",
        "import matplotlib.pyplot as plt"
      ]
    },
    {
      "cell_type": "code",
      "source": [
        "l=20\n",
        "u=5\n",
        "shift_hours=8\n",
        "np.random.seed(1)"
      ],
      "metadata": {
        "id": "MR8dcbDpOmLD"
      },
      "execution_count": null,
      "outputs": []
    },
    {
      "cell_type": "code",
      "source": [
        "def simulate_queue(s):\n",
        "  \"\"\"\n",
        "  simulate an M/M/s queue over 'shift_hours'\n",
        "  returns arrays of wait times and system sizes at arrivals\n",
        "  \"\"\"\n",
        "  inter =np.random.exponential(1/l,int(l*shift_hours*1.5))\n",
        "  arrivals =np.cumsum(inter)\n",
        "  arrivals=arrivals[arrivals< shift_hours]\n",
        "  N=len(arrivals)\n",
        "  services =np.random.exponential(1/u ,N)\n",
        "  next_free=np.zeros(s)\n",
        "  wait_times=np.zeros(N)\n",
        "  system_size=np.zeros(N)\n",
        "  dep_times=[]\n",
        "  for i,t in enumerate (arrivals):\n",
        "    j=np.argmin(next_free)\n",
        "    start =max(t,np.min(next_free))\n",
        "    wait_times[i]=start -t\n",
        "    end =start + services[i]\n",
        "    next_free[j]=end\n",
        "    dep_times.append(end)\n",
        "    system_size[i]=np.sum(np.array(dep_times)>t)\n",
        "  return  wait_times,system_size\n",
        "\n",
        "w1, q1 =simulate_queue(s=1)\n",
        "print(f\"s=1: avg wait { w1.mean()*60:.1f} mins, avg queue len{q1.mean():.2f}\")\n",
        "\n"
      ],
      "metadata": {
        "colab": {
          "base_uri": "https://localhost:8080/"
        },
        "id": "qC0HdBFCWRaB",
        "outputId": "4b848588-1979-480b-89ff-0ae646d24f67"
      },
      "execution_count": null,
      "outputs": [
        {
          "output_type": "stream",
          "name": "stdout",
          "text": [
            "s=1: avg wait 808.2 mins, avg queue len65.99\n"
          ]
        }
      ]
    },
    {
      "cell_type": "code",
      "source": [
        "p1=l/u\n",
        "L_analytic =p1 /(1-p1)\n",
        "W_analytic =L_analytic/l\n",
        "print(\"M/M/1 analytic vs simulation:\")\n",
        "print(f\"Analytic system size: {L_analytic:.2f}\")\n",
        "print(f\"simulated system size: {q1.mean():.2f}\")\n",
        "print(f\"Analytic wait time: {W_analytic*60:.1f} mins\")\n",
        "print(f\"simulated wait time: {w1.mean()*60+(1/u)*60:.1f} mins\")\n"
      ],
      "metadata": {
        "colab": {
          "base_uri": "https://localhost:8080/"
        },
        "id": "Ztv_B3l2QM52",
        "outputId": "83626828-b311-416b-f0f3-966a54913bba"
      },
      "execution_count": null,
      "outputs": [
        {
          "output_type": "stream",
          "name": "stdout",
          "text": [
            "M/M/1 analytic vs simulation:\n",
            "Analytic system size: -1.33\n",
            "simulated system size: 65.99\n",
            "Analytic wait time: -4.0 mins\n",
            "simulated wait time: 820.2 mins\n"
          ]
        }
      ]
    },
    {
      "cell_type": "code",
      "source": [
        "#4. Test staffing levels(s=1..5)\n",
        "threshold = 5 #minutes\n",
        "results =[]\n",
        "\n",
        "for s in range(1,6):\n",
        "  w,q = simulate_queue(s)\n",
        "  waits_min = w*60\n",
        "  p95_wait = np.percentile(waits_min, 95)\n",
        "  results.append((s,waits_min.mean(),p95_wait,q.mean()))\n",
        "\n",
        "# tabulate\n",
        "import pandas as pd\n",
        "df = pd.DataFrame(results, columns=[\"Agents\",\"avg_wait(min)\",\"95th-pct wait (min)\",\"Avg Syste Size\"])\n",
        "print(df)\n",
        "\n",
        "#find minimal s meeting threshold\n",
        "\n",
        "good = df[df['95th-pct wait (min)'] <= threshold]\n",
        "if not good.empty:\n",
        "  best_s = int(good.iloc[0]['Agents'])\n",
        "  print(f\"\\n Schedule at least {best_s} agents to keep 95% of waits ≤ {threshold} min.\")\n",
        "else:\n",
        "  print(\"\\nEven 5 agents can't meet the 5 min 95% wait target.\")"
      ],
      "metadata": {
        "colab": {
          "base_uri": "https://localhost:8080/"
        },
        "id": "SBs5Kx0YYA0A",
        "outputId": "cedef770-e40b-4bd5-fe2f-002b5025a820"
      },
      "execution_count": null,
      "outputs": [
        {
          "output_type": "stream",
          "name": "stdout",
          "text": [
            "   Agents  avg_wait(min)  95th-pct wait (min)  Avg Syste Size\n",
            "0       1     967.452943          1793.756738       79.601990\n",
            "1       2     284.779188           439.788565       50.137500\n",
            "2       3      40.007276            82.949132       14.273333\n",
            "3       4      30.237601            48.142521       15.094675\n",
            "4       5       5.135539            20.229423        6.611765\n",
            "\n",
            "Even 5 agents can't meet the 5 min 95% wait target.\n"
          ]
        }
      ]
    },
    {
      "cell_type": "code",
      "source": [
        "\n",
        "\n",
        "plt.figure(figsize=(8,4))\n",
        "for s in [1,2,3,4,5]:\n",
        "    w, _ = simulate_queue(s)\n",
        "    plt.hist(w*60, bins=30, alpha=0.5, label=f's={s}')\n",
        "plt.axvline(threshold, color='k', linestyle='--', label='5 min target')\n",
        "plt.xlabel('Wait time (minutes)')\n",
        "plt.ylabel('Frequency')\n",
        "plt.title('Wait-time Distributions for Different Agent Counts')\n",
        "plt.legend()\n",
        "plt.show()"
      ],
      "metadata": {
        "colab": {
          "base_uri": "https://localhost:8080/",
          "height": 382
        },
        "id": "kR5D4dbgakAm",
        "outputId": "1831ffa0-5929-4d6c-85e0-d3d03912ba2e"
      },
      "execution_count": null,
      "outputs": [
        {
          "output_type": "display_data",
          "data": {
            "text/plain": [
              "<Figure size 800x400 with 1 Axes>"
            ],
            "image/png": "[encoded data removed]"
          },
          "metadata": {}
        }
      ]
    },
    {
      "cell_type": "code",
      "source": [
        "def simulate_queue_timevarying(s):\n",
        "  periods =[(0,2,30),(2,6,20),(6,8,40)]\n",
        "  arrivals =[]\n",
        "  for start ,end ,lam in periods :\n",
        "    duration=end -start\n",
        "    inter =np.random.exponential(1/lam,int(lam*duration*1.5))\n",
        "    ts =np.cumsum(inter) +start\n",
        "    arrivals.extend(ts[ts <end])\n",
        "  arrivals =np.array(arrivals)\n",
        "  arrivals.sort()\n",
        "  N=len(arrivals)\n",
        "  services =np.random.exponential(1/u,N)\n",
        "  next_free=np.zeros(s)\n",
        "  wait_times=np.zeros(N)\n",
        "\n",
        "  for i,t in enumerate(arrivals):\n",
        "    j=np.argmin(next_free)\n",
        "    start =max(t,np.min(next_free))\n",
        "    wait_times[i]=start -t\n",
        "\n",
        "    next_free[j]=start +services[i]\n",
        "  return wait_times\n",
        "\n",
        "w_tv=simulate_queue_timevarying(s=3)\n",
        "print(f\"s=1: avg wait {w_tv.mean()*60:.1f} min\")"
      ],
      "metadata": {
        "colab": {
          "base_uri": "https://localhost:8080/"
        },
        "id": "ogUPbP4YcgEw",
        "outputId": "cb0ab376-fc92-4c76-e526-a5440e60cb82"
      },
      "execution_count": null,
      "outputs": [
        {
          "output_type": "stream",
          "name": "stdout",
          "text": [
            "s=1: avg wait 84.5 min\n"
          ]
        }
      ]
    },
    {
      "cell_type": "code",
      "source": [
        "# 7. Abandonment\n",
        "def simulate_with_abandon(s, patience=5/60):\n",
        "    arrivals = np.cumsum(np.random.exponential(1/l, int(l*shift_hours*1.5)))\n",
        "    arrivals = arrivals[arrivals < shift_hours]\n",
        "    services = np.random.exponential(1/u, len(arrivals))\n",
        "    next_free = np.zeros(s)\n",
        "    waits = []\n",
        "    abandons = 0\n",
        "\n",
        "    for i, t in enumerate(arrivals):\n",
        "        j = np.argmin(next_free)\n",
        "        start = max(t, next_free[j])\n",
        "        wait = start - t\n",
        "        if wait > patience:\n",
        "            abandons += 1\n",
        "        else:\n",
        "            waits.append(wait)\n",
        "            next_free[j]=start + services[i]\n",
        "    return np.array(waits), abandons/len(arrivals)\n",
        "\n",
        "w, ab_rate = simulate_with_abandon(s=4)\n",
        "print(f\"Abandon rate (s=4): {ab_rate:.2%}, avg wait on served calls: {w.mean()*60:.1f} min\")"
      ],
      "metadata": {
        "colab": {
          "base_uri": "https://localhost:8080/"
        },
        "id": "6oeF9hV-i3bN",
        "outputId": "5dcf5ad5-49cb-4444-e9ed-be02d065623b"
      },
      "execution_count": null,
      "outputs": [
        {
          "output_type": "stream",
          "name": "stdout",
          "text": [
            "Abandon rate (s=4): 23.60%, avg wait on served calls: 0.9 min\n"
          ]
        }
      ]
    },
    {
      "cell_type": "code",
      "source": [
        "def simulate_with_breaks(s, break_start=3, break_length=0.25):\n",
        "    arrivals = np.cumsum(np.random.exponential(1/l, int(l*shift_hours*1.5)))\n",
        "    arrivals = arrivals[arrivals < shift_hours]\n",
        "    services = np.random.exponential(1/u, len(arrivals))\n",
        "    next_free = np.zeros(s)\n",
        "    waits = []\n",
        "\n",
        "    for i, t in enumerate(arrivals):\n",
        "        # if in break window, one fewer agent\n",
        "        avail = next_free.copy()\n",
        "        if break_start < t < break_start + break_length:\n",
        "            avail = np.delete(avail, 0)  # remove one agent\n",
        "        j = np.argmin(avail)\n",
        "        start = max(t, avail[j])\n",
        "        waits.append(start - t)\n",
        "        # update that agent's free time in original array\n",
        "        idx = j + (1 if break_start < t < break_start + break_length else 0)\n",
        "        next_free[idx] = start + services[i]\n",
        "\n",
        "    return np.array(waits)\n",
        "\n",
        "w_b = simulate_with_breaks(s=3)\n",
        "print(f\"With breaks, s=3 -> avg wait = {w_b.mean()*60:.1f} min\")"
      ],
      "metadata": {
        "colab": {
          "base_uri": "https://localhost:8080/"
        },
        "id": "sFZXvYJ6nTzI",
        "outputId": "e562c651-c607-4692-d11f-0935e9687914"
      },
      "execution_count": null,
      "outputs": [
        {
          "output_type": "stream",
          "name": "stdout",
          "text": [
            "With breaks, s=3 -> avg wait = 186.0 min\n"
          ]
        }
      ]
    },
    {
      "cell_type": "code",
      "source": [
        "# Cost optimization\n",
        "c_agent = 20  # $20/hr per agent\n",
        "c_wait = 0.50  # $0.50 per minute waited\n",
        "\n",
        "costs = []\n",
        "for s in range(1, 6):\n",
        "    w, ab_rate = simulate_with_abandon(s)  # unpack the tuple\n",
        "    total_wait_cost = w.sum()*60*c_wait\n",
        "    staff_cost = s * c_agent * shift_hours\n",
        "    costs.append((s, staff_cost + total_wait_cost))\n",
        "\n",
        "opt = min(costs, key=lambda x: x[1])\n",
        "print(\"Agent count, total cost:\")\n",
        "for s, c in costs:\n",
        "    print(f\" s={s}: ${c:,.0f}\")\n",
        "print(f\"Optimal s by cost = {opt[0]}\")"
      ],
      "metadata": {
        "colab": {
          "base_uri": "https://localhost:8080/"
        },
        "id": "KdJbhuhKpst4",
        "outputId": "4299b349-f4e1-47a2-9e9b-7c177b352a88"
      },
      "execution_count": null,
      "outputs": [
        {
          "output_type": "stream",
          "name": "stdout",
          "text": [
            "Agent count, total cost:\n",
            " s=1: $191\n",
            " s=2: $367\n",
            " s=3: $563\n",
            " s=4: $731\n",
            " s=5: $839\n",
            "Optimal s by cost = 1\n"
          ]
        }
      ]
    },
    {
      "cell_type": "code",
      "source": [
        "# 10. 30-day simulation\n",
        "days = 30\n",
        "daily = []\n",
        "for _ in range(days):\n",
        "    w, _ = simulate_with_abandon(opt[0])\n",
        "    daily.append((w.mean() * 60, np.percentile(w * 60, 95)))\n",
        "\n",
        "df_days = pd.DataFrame(daily, columns=['AvgWait', 'P95Wait'])\n",
        "df_days.describe()\n",
        "df_days.hist(bins=10)\n",
        "plt.suptitle('30-Day Variability in Wait Times')\n",
        "plt.show()"
      ],
      "metadata": {
        "colab": {
          "base_uri": "https://localhost:8080/",
          "height": 478
        },
        "id": "TSRFIibdsRGJ",
        "outputId": "9796bcf6-9272-446f-c970-b58c65f9cb83"
      },
      "execution_count": null,
      "outputs": [
        {
          "output_type": "display_data",
          "data": {
            "text/plain": [
              "<Figure size 640x480 with 2 Axes>"
            ],
            "image/png": "[encoded data removed]"
          },
          "metadata": {}
        }
      ]
    }
  ]
}